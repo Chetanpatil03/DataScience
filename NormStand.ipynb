{
 "cells": [
  {
   "cell_type": "code",
   "execution_count": null,
   "metadata": {},
   "outputs": [],
   "source": [
    "import pandas as pd\n",
    "# import numpy as np\n",
    "from sklearn.preprocessing import MinMaxScaler,StandardScaler"
   ]
  },
  {
   "cell_type": "code",
   "execution_count": null,
   "metadata": {},
   "outputs": [],
   "source": [
    "D={\n",
    "    'A':[10, 20, 30, 40, 50, 60, 70, 80, 90]\n",
    "}\n",
    "df = pd.DataFrame(D)\n",
    "print(df)"
   ]
  },
  {
   "cell_type": "code",
   "execution_count": null,
   "metadata": {},
   "outputs": [],
   "source": [
    "Norm=MinMaxScaler()\n",
    "n=Norm.fit_transform(df)\n",
    "NormDF=pd.DataFrame(n,columns=df.columns)\n",
    "print(\"Normalized data : \\n\",NormDF)"
   ]
  },
  {
   "cell_type": "code",
   "execution_count": null,
   "metadata": {},
   "outputs": [],
   "source": [
    "Stan=StandardScaler()\n",
    "s=Stan.fit_transform(df)\n",
    "StanDF=pd.DataFrame(s,columns=df.columns)\n",
    "print(\"Standardize data : \\n\",StanDF)"
   ]
  }
 ],
 "metadata": {
  "language_info": {
   "name": "python"
  }
 },
 "nbformat": 4,
 "nbformat_minor": 2
}
