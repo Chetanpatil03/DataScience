{
 "cells": [
  {
   "cell_type": "code",
   "execution_count": null,
   "metadata": {},
   "outputs": [],
   "source": [
    "import numpy as np"
   ]
  },
  {
   "cell_type": "code",
   "execution_count": null,
   "metadata": {},
   "outputs": [],
   "source": [
    "data=np.array([3,6,8,9,12,12])\n",
    "Mean=np.mean(data)\n",
    "Median=np.median(data)\n",
    "Population_varience=np.var(data)\n",
    "Sample_varience=np.var(data, ddof=1)\n",
    "\n",
    "print(data)\n",
    "print(Mean)\n",
    "print(Median)\n",
    "print(Population_varience)\n",
    "print(Sample_varience)\n"
   ]
  }
 ],
 "metadata": {
  "language_info": {
   "name": "python"
  }
 },
 "nbformat": 4,
 "nbformat_minor": 2
}
