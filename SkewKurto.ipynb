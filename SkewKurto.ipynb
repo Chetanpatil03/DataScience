{
 "cells": [
  {
   "cell_type": "code",
   "execution_count": null,
   "metadata": {},
   "outputs": [],
   "source": [
    "import pandas as pd\n",
    "from scipy.stats import skew,kurtosis\n",
    "import matplotlib.pyplot as plt\n",
    "import seaborn as sns"
   ]
  },
  {
   "cell_type": "code",
   "execution_count": null,
   "metadata": {},
   "outputs": [],
   "source": [
    "data = [15,6,5,63,57,9,52,6,5,64,69,4,6,18,27,61,79,]\n",
    "data_series = pd.Series(data)\n",
    "print(data_series)"
   ]
  },
  {
   "cell_type": "code",
   "execution_count": null,
   "metadata": {},
   "outputs": [],
   "source": [
    "skew = skew(data_series)\n",
    "kurto= kurtosis(data_series)\n",
    "\n",
    "print(f\"Skewness : {skew}\")\n",
    "print(f\"Kurtosis : {kurto}\")"
   ]
  },
  {
   "cell_type": "code",
   "execution_count": null,
   "metadata": {},
   "outputs": [],
   "source": [
    "plt.figure(figsize=(10,6))\n",
    "sns.histplot(data_series,kde=True,bins=10,color=\"Green\")\n",
    "\n",
    "plt.title(\"Histogram of given data \")\n",
    "plt.xlabel(\"Values\")\n",
    "plt.ylabel(\"Frequency\")\n",
    "\n",
    "plt.grid(True)\n",
    "plt.show()"
   ]
  }
 ],
 "metadata": {
  "language_info": {
   "name": "python"
  }
 },
 "nbformat": 4,
 "nbformat_minor": 2
}
