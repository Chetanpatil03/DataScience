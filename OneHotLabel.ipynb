{
 "cells": [
  {
   "cell_type": "code",
   "execution_count": null,
   "metadata": {},
   "outputs": [],
   "source": [
    "import pandas as pd\n",
    "from sklearn.preprocessing import OneHotEncoder,LabelEncoder\n",
    "\n",
    "data={\n",
    "    'Fruits':[\"Mango\",\"Banana\",\"Apple\",\"Banana\",\"Apple\",\"Mango\",\"Mango\",\"Banana\",\"Apple\"],\n",
    "    'Values':[10,20,30,20,30,10,10,20,30]\n",
    "}\n",
    "df=pd.DataFrame(data)\n",
    "print(\"Original data:\")\n",
    "print(df)"
   ]
  },
  {
   "cell_type": "code",
   "execution_count": null,
   "metadata": {},
   "outputs": [],
   "source": [
    "#one-hot encoding\n",
    "oneHot=pd.get_dummies(df,columns=[\"Fruits\"])\n",
    "print(oneHot)"
   ]
  },
  {
   "cell_type": "code",
   "execution_count": null,
   "metadata": {},
   "outputs": [],
   "source": [
    "#Label encoding\n",
    "lblEnco=LabelEncoder()\n",
    "df[\"Fruits_label\"]=lblEnco.fit_transform(df[\"Fruits\"])\n",
    "print(df)"
   ]
  }
 ],
 "metadata": {
  "language_info": {
   "name": "python"
  }
 },
 "nbformat": 4,
 "nbformat_minor": 2
}
