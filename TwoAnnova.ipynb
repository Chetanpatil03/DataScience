{
 "cells": [
  {
   "cell_type": "code",
   "execution_count": null,
   "metadata": {},
   "outputs": [],
   "source": [
    "import numpy as np\n",
    "import scipy.stats as stats\n",
    "import pandas as pd\n",
    "import statsmodels.api as sm\n",
    "from statsmodels.formula.api import ols\n",
    "from statsmodels.stats.anova import anova_lm"
   ]
  },
  {
   "cell_type": "code",
   "execution_count": null,
   "metadata": {},
   "outputs": [],
   "source": [
    "# --------------- Two-Way ANOVA -------------------\n",
    "# Example Data: Two factors and a dependent variable\n",
    "# 'FactorA' and 'FactorB' are the two independent variables (factors)\n",
    "# 'Value' is the dependent variable\n",
    "data = {\n",
    "'FactorA': ['A1', 'A1', 'A1', 'A2', 'A2', 'A2', 'A1', 'A1', 'A1', 'A2', 'A2', 'A2'],\n",
    "'FactorB': ['B1', 'B2', 'B1', 'B2', 'B1', 'B2', 'B1', 'B2', 'B1', 'B2', 'B1', 'B2'],\n",
    "'Value': [23, 21, 25, 30, 28, 31, 22, 23, 21, 35, 34, 32]\n",
    "}\n",
    "\n",
    "df = pd.DataFrame(data)\n",
    "print(df)\n",
    "# Perform Two-Way ANOVA\n",
    "model = ols('Value ~ C(FactorA) + C(FactorB) + C(FactorA):C(FactorB)', data=df).fit()\n",
    "anova_result = anova_lm(model)\n",
    "\n",
    "print(\"Two-Way ANOVA Results:\")\n",
    "print(anova_result)\n",
    "\n",
    "# Interpretation\n",
    "# Look at the p-values to see if there is a significant effect for FactorA, FactorB, or their interaction\n",
    "alpha = 0.05\n",
    "if anova_result['PR(>F)'][0] < alpha:\n",
    "    print(\"FactorA has a significant effect on the dependent variable.\")\n",
    "else:\n",
    "    print(\"FactorA does not have a significant effect on the dependent variable.\")\n",
    "\n",
    "if anova_result['PR(>F)'][1] < alpha:\n",
    "    print(\"FactorB has a significant effect on the dependent variable.\")\n",
    "else:\n",
    "    print(\"FactorB does not have a significant effect on the dependent variable.\")\n",
    "\n",
    "if anova_result['PR(>F)'][2] < alpha:\n",
    "    print(\"There is a significant interaction effect between FactorA and FactorB.\")\n",
    "else:\n",
    "    print(\"There is no significant interaction effect between FactorA and FactorB.\")"
   ]
  }
 ],
 "metadata": {
  "language_info": {
   "name": "python"
  }
 },
 "nbformat": 4,
 "nbformat_minor": 2
}
