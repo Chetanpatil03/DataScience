{
 "cells": [
  {
   "cell_type": "code",
   "execution_count": null,
   "metadata": {},
   "outputs": [],
   "source": [
    "import pandas as pd\n",
    "from scipy.stats import pearsonr, spearmanr\n",
    "a=[1, 6, 11, 16, 21, 26, 31, 36, 41, 46, 51, 56, 61, 66, 71, 76, 81, 86]\n",
    "b=[1, 5, 9, 13, 17, 21, 25, 29, 33, 37, 41, 45, 49, 53, 57, 61, 65, 69]"
   ]
  },
  {
   "cell_type": "code",
   "execution_count": null,
   "metadata": {},
   "outputs": [],
   "source": [
    "def Pearson(x,y):\n",
    "    pearson_corr,p_value = pearsonr(x,y)\n",
    "    print(f\"Pearson correlation : {pearson_corr}\")\n",
    "\n",
    "    if pearson_corr > 0.08:\n",
    "        print(\"Interpretation :: Strongly postive linear realtionship\")\n",
    "    elif pearson_corr > 0.03:\n",
    "        print(\"Interpretation :: Moderate postive linear realtionship\")\n",
    "    elif pearson_corr > 0:\n",
    "        print(\"Interpretation :: Weekly postive linear realtionship\")\n",
    "    elif pearson_corr < -0.08:\n",
    "        print(\"Interpretation :: Strongly negative linear realtionship\")\n",
    "    elif pearson_corr < -0.03:\n",
    "        print(\"Interpretation :: Moderate negative linear realtionship\")\n",
    "    elif pearson_corr < 0:\n",
    "        print(\"Interpretation :: Weekly negative linear realtionship\")\n",
    "    else:\n",
    "        print(\"No relationship\")\n",
    "\n",
    "    if p_value < 0.05:\n",
    "        print(\"Conclusion :: The Relation is Statically significant\")\n",
    "    else:\n",
    "        print(\"Conclusion :: The Relation is not Statically significant\")"
   ]
  },
  {
   "cell_type": "code",
   "execution_count": null,
   "metadata": {},
   "outputs": [],
   "source": [
    "def Spearman(x,y):\n",
    "    spearman_corr,p_value = spearmanr(x,y)\n",
    "    print(f\"Pearson correlation : {spearman_corr}\")\n",
    "\n",
    "    if spearman_corr > 0.08:\n",
    "        print(\"Interpretation :: Strongly postive Monotonic realtionship\")\n",
    "    elif spearman_corr > 0.03:\n",
    "        print(\"Interpretation :: Moderate postive Monotonic realtionship\")\n",
    "    elif spearman_corr > 0:\n",
    "        print(\"Interpretation :: Weekly postive Monotonic realtionship\")\n",
    "    elif spearman_corr < -0.08:\n",
    "        print(\"Interpretation :: Strongly negative Monotonic realtionship\")\n",
    "    elif spearman_corr < -0.03:\n",
    "        print(\"Interpretation :: Moderate negative Monotonic realtionship\")\n",
    "    elif spearman_corr < 0:\n",
    "        print(\"Interpretation :: Weekly negative Monotonic realtionship\")\n",
    "    else:\n",
    "        print(\"No relationship\")\n",
    "\n",
    "    if p_value < 0.05:\n",
    "        print(\"Conclusion :: The Relation is Statically significant\")\n",
    "    else:\n",
    "        print(\"Conclusion :: The Relation is not Statically significant\")\n"
   ]
  },
  {
   "cell_type": "code",
   "execution_count": null,
   "metadata": {},
   "outputs": [],
   "source": [
    "x=pd.Series(a)\n",
    "y=pd.Series(b)\n",
    "Spearman(x,y)\n",
    "Pearson(x,y)"
   ]
  }
 ],
 "metadata": {
  "kernelspec": {
   "display_name": "Python 3",
   "language": "python",
   "name": "python3"
  },
  "language_info": {
   "name": "python",
   "version": "3.12.1"
  }
 },
 "nbformat": 4,
 "nbformat_minor": 2
}
