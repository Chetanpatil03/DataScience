{
 "cells": [
  {
   "cell_type": "code",
   "execution_count": null,
   "metadata": {},
   "outputs": [],
   "source": [
    "from scipy.stats import f_oneway"
   ]
  },
  {
   "cell_type": "code",
   "execution_count": null,
   "metadata": {},
   "outputs": [],
   "source": [
    "group_a = [1,2,3,4,5]\n",
    "group_b = [10,20,30,40,50]\n",
    "group_c = [15,25,35,45,55]\n",
    "\n",
    "f_statistic,p_value = f_oneway(group_a, group_b, group_c)\n",
    "\n",
    "print(\"---ONE WAY ANOVA ----\")\n",
    "\n",
    "print(f\"f_statistic :: {f_statistic}\")\n",
    "print(f\"P_value :: {p_value}\")\n",
    "\n",
    "alpha = 0.05\n",
    "\n",
    "if p_value < 0.05:\n",
    "    print(\"Reject the null hypothesis: At least one of the group means is significantly different.\")\n",
    "\n",
    "else:\n",
    "    print(\"Fail to reject the null hypothesis: The group means are not significantly different.\")"
   ]
  }
 ],
 "metadata": {
  "language_info": {
   "name": "python"
  }
 },
 "nbformat": 4,
 "nbformat_minor": 2
}
