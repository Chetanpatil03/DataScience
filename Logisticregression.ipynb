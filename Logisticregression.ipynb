{
 "cells": [
  {
   "cell_type": "code",
   "execution_count": null,
   "metadata": {},
   "outputs": [],
   "source": [
    "import pandas as pd\n",
    "import numpy as np\n",
    "import matplotlib.pyplot as plt\n",
    "from sklearn.model_selection import train_test_split\n",
    "from sklearn.linear_model import LogisticRegression\n",
    "from sklearn.metrics import accuracy_score, confusion_matrix\n",
    "import seaborn as sns"
   ]
  },
  {
   "cell_type": "code",
   "execution_count": null,
   "metadata": {},
   "outputs": [],
   "source": [
    "# Sample data (Years of experience and binary outcome: 1 means purchased, 0 means not purchased)\n",
    "data = {\n",
    "'X': [1, 2, 3, 4, 5, 6, 7, 8, 9, 10], # Independent variable (e.g., years of experience)\n",
    "'y': [0, 0, 0, 0, 1, 1, 1, 1, 1, 1] # Dependent variable (0 = No purchase, 1 = Purchased)\n",
    "}\n",
    "\n",
    "# Convert the data into a pandas DataFrame\n",
    "df = pd.DataFrame(data)\n",
    "\n",
    "# Prepare the data for Logistic Regression\n",
    "X = df[['X']] # Independent variable (years of experience)\n",
    "y = df['y'] # Dependent variable (purchase or not)\n",
    "\n",
    "# Split the data into training and testing sets\n",
    "X_train, X_test, y_train, y_test = train_test_split(X, y, test_size=0.2, random_state=42)\n",
    "\n",
    "# Create and train the Logistic Regression model\n",
    "model = LogisticRegression()\n",
    "model.fit(X_train, y_train)\n",
    "\n",
    "# Predict the results\n",
    "y_pred = model.predict(X_test)\n",
    "\n",
    "# Calculate accuracy\n",
    "accuracy = accuracy_score(y_test, y_pred)\n",
    "\n",
    "# Confusion matrix\n",
    "conf_matrix = confusion_matrix(y_test, y_pred)\n",
    "\n",
    "# Print the results\n",
    "print(\"\\n----- Logistic Regression -----\")\n",
    "print(f\"Accuracy: {accuracy}\")\n",
    "print(f\"Confusion Matrix:\\n{conf_matrix}\")\n",
    "\n",
    "# Plotting the decision boundary for logistic regression\n",
    "plt.figure(figsize=(8, 6))\n",
    "plt.scatter(X_train, y_train, color='blue', label='Train data')\n",
    "plt.scatter(X_test, y_test, color='red', label='Test data')\n",
    "plt.plot(X_test, model.predict_proba(X_test)[:,1], color='green', label='Decision Boundary', linestyle='--')\n",
    "plt.xlabel('Years of Experience')\n",
    "plt.ylabel('Purchase (0 or 1)')\n",
    "plt.title('Logistic Regression: Purchase vs Experience')\n",
    "plt.legend()\n",
    "plt.show()"
   ]
  }
 ],
 "metadata": {
  "language_info": {
   "name": "python"
  }
 },
 "nbformat": 4,
 "nbformat_minor": 2
}
