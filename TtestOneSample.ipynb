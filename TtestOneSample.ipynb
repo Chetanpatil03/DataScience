{
 "cells": [
  {
   "cell_type": "code",
   "execution_count": null,
   "metadata": {},
   "outputs": [],
   "source": [
    "import numpy as np\n",
    "import pandas as pd\n",
    "from scipy import stats"
   ]
  },
  {
   "cell_type": "code",
   "execution_count": null,
   "metadata": {},
   "outputs": [],
   "source": [
    "# Sample data for one-sample t-test\n",
    "sample_data_one = [12, 15, 14, 10, 8, 15, 14, 12, 10, 9]\n",
    "population_mean = 12 # Known population mean to test against\n",
    "\n",
    "# Perform one-sample t-test\n",
    "t_stat_one, p_value_one = stats.ttest_1samp(sample_data_one, population_mean)\n",
    "\n",
    "# Interpretation for one-sample t-test\n",
    "print(\"One-Sample T-Test:\")\n",
    "print(f\"T-statistic: {t_stat_one}, P-value: {p_value_one}\")\n",
    "if p_value_one < 0.05:\n",
    "    print(\"Reject the null hypothesis: The sample mean is significantly different from the population mean.\")\n",
    "else:\n",
    "    print(\"Fail to reject the null hypothesis: The sample mean is not significantly different from the population mean.\")"
   ]
  },
  {
   "cell_type": "code",
   "execution_count": null,
   "metadata": {},
   "outputs": [],
   "source": [
    "# Sample data for independent two-sample t-test\n",
    "sample_data_a = [12, 15, 14, 10, 8]\n",
    "sample_data_b = [14, 15, 13, 17, 19]\n",
    "\n",
    "# Perform independent two-sample t-test\n",
    "t_stat_two, p_value_two = stats.ttest_ind(sample_data_a, sample_data_b)\n",
    "\n",
    "# Interpretation for independent two-sample t-test\n",
    "print(\"\\nIndependent Two-Sample T-Test:\")\n",
    "print(f\"T-statistic: {t_stat_two}, P-value: {p_value_two}\")\n",
    "\n",
    "if p_value_two < 0.05:\n",
    "    print(\"Reject the null hypothesis: The means of the two samples are significantly different.\")\n",
    "else:\n",
    "    print(\"Fail to reject the null hypothesis: The means of the two samples are not significantly different.\")"
   ]
  }
 ],
 "metadata": {
  "language_info": {
   "name": "python"
  }
 },
 "nbformat": 4,
 "nbformat_minor": 2
}
